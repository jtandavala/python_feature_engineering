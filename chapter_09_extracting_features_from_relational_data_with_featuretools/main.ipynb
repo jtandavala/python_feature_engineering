{
 "cells": [
  {
   "cell_type": "markdown",
   "metadata": {},
   "source": [
    "### Extracting Features from Relational Data with Featuretools\n",
    "\n",
    "\n",
    "In previous chapters, we worked with data organized in rows and columns, where the columns are the variables, the rows are the observations, and each observation is independent. In this chapter, we will focus on creating features from relational datasets. In relational datasets, data is structured across various tables, which can be joined together via unique identifiers. These unique identifiers indicate relationships that exist between the different tables"
   ]
  },
  {
   "cell_type": "markdown",
   "metadata": {},
   "source": [
    "A classic example of relational data is that held by retail companies. One table contains information about customers, such as names and addresses. A second table has information about the purchases made by the customers, such as the type and number of items bought per purchase. A third table contains information about the customers' interactions with the company's website, variables such as session duration, the mobile device used, and pages visited. Customers, purchases, and sessions are identified with unique identifiers. These unique identifiers allow us to put these tables together, and in this way, we can get information about customers' purchases or sessions."
   ]
  },
  {
   "cell_type": "markdown",
   "metadata": {},
   "source": [
    "In this chapter, we will cover the following recipes:\n",
    "\t\t\t\n",
    "- Setting up an entity set and creating features automatically\n",
    "- Creating features with general and cumulative operations\n",
    "- Combining numerical features\n",
    "- Extracting features from date and time"
   ]
  },
  {
   "cell_type": "markdown",
   "metadata": {},
   "source": [
    "### Setting up an entity set and creating features automatically\n",
    "\n",
    "Relational datasets or databases contain data spread across multiple tables, and the relationships between tables are dictated by a unique identifier that tells us how we can join those tables"
   ]
  },
  {
   "cell_type": "markdown",
   "metadata": {},
   "source": [
    "![Working with relation tables](../img/relations.png)"
   ]
  },
  {
   "cell_type": "markdown",
   "metadata": {},
   "source": [
    "Each customer made one or more purchases, identified by the invoice number. Each invoice contains one or more items, identified by the stock code. Each item can be bought by one or more customers and is therefore present in several invoices. With these relationships in mind, lets proceed to the recipe"
   ]
  },
  {
   "cell_type": "code",
   "execution_count": 30,
   "metadata": {},
   "outputs": [],
   "source": [
    "import warnings\n",
    "import pandas as pd\n",
    "import featuretools as ft\n",
    "from woodwork.logical_types import Categorical\n",
    "\n",
    "warnings.filterwarnings('ignore')"
   ]
  },
  {
   "cell_type": "code",
   "execution_count": 31,
   "metadata": {},
   "outputs": [
    {
     "data": {
      "text/html": [
       "<div>\n",
       "<style scoped>\n",
       "    .dataframe tbody tr th:only-of-type {\n",
       "        vertical-align: middle;\n",
       "    }\n",
       "\n",
       "    .dataframe tbody tr th {\n",
       "        vertical-align: top;\n",
       "    }\n",
       "\n",
       "    .dataframe thead th {\n",
       "        text-align: right;\n",
       "    }\n",
       "</style>\n",
       "<table border=\"1\" class=\"dataframe\">\n",
       "  <thead>\n",
       "    <tr style=\"text-align: right;\">\n",
       "      <th></th>\n",
       "      <th>customer_id</th>\n",
       "      <th>invoice</th>\n",
       "      <th>invoice_date</th>\n",
       "      <th>stock_code</th>\n",
       "      <th>description</th>\n",
       "      <th>quantity</th>\n",
       "      <th>price</th>\n",
       "    </tr>\n",
       "  </thead>\n",
       "  <tbody>\n",
       "    <tr>\n",
       "      <th>0</th>\n",
       "      <td>13085.0</td>\n",
       "      <td>489434</td>\n",
       "      <td>2009-12-01 07:45:00</td>\n",
       "      <td>85048</td>\n",
       "      <td>15CM CHRISTMAS GLASS BALL 20 LIGHTS</td>\n",
       "      <td>12</td>\n",
       "      <td>6.95</td>\n",
       "    </tr>\n",
       "    <tr>\n",
       "      <th>1</th>\n",
       "      <td>13085.0</td>\n",
       "      <td>489434</td>\n",
       "      <td>2009-12-01 07:45:00</td>\n",
       "      <td>79323P</td>\n",
       "      <td>PINK CHERRY LIGHTS</td>\n",
       "      <td>12</td>\n",
       "      <td>6.75</td>\n",
       "    </tr>\n",
       "    <tr>\n",
       "      <th>2</th>\n",
       "      <td>13085.0</td>\n",
       "      <td>489434</td>\n",
       "      <td>2009-12-01 07:45:00</td>\n",
       "      <td>79323W</td>\n",
       "      <td>WHITE CHERRY LIGHTS</td>\n",
       "      <td>12</td>\n",
       "      <td>6.75</td>\n",
       "    </tr>\n",
       "    <tr>\n",
       "      <th>3</th>\n",
       "      <td>13085.0</td>\n",
       "      <td>489434</td>\n",
       "      <td>2009-12-01 07:45:00</td>\n",
       "      <td>22041</td>\n",
       "      <td>RECORD FRAME 7\" SINGLE SIZE</td>\n",
       "      <td>48</td>\n",
       "      <td>2.10</td>\n",
       "    </tr>\n",
       "    <tr>\n",
       "      <th>4</th>\n",
       "      <td>13085.0</td>\n",
       "      <td>489434</td>\n",
       "      <td>2009-12-01 07:45:00</td>\n",
       "      <td>21232</td>\n",
       "      <td>STRAWBERRY CERAMIC TRINKET BOX</td>\n",
       "      <td>24</td>\n",
       "      <td>1.25</td>\n",
       "    </tr>\n",
       "  </tbody>\n",
       "</table>\n",
       "</div>"
      ],
      "text/plain": [
       "   customer_id invoice  ... quantity price\n",
       "0      13085.0  489434  ...       12  6.95\n",
       "1      13085.0  489434  ...       12  6.75\n",
       "2      13085.0  489434  ...       12  6.75\n",
       "3      13085.0  489434  ...       48  2.10\n",
       "4      13085.0  489434  ...       24  1.25\n",
       "\n",
       "[5 rows x 7 columns]"
      ]
     },
     "execution_count": 31,
     "metadata": {},
     "output_type": "execute_result"
    }
   ],
   "source": [
    "df = pd.read_csv('../source/ch09-featuretools/retail.csv', parse_dates=['invoice_date'])\n",
    "\n",
    "df.head()"
   ]
  },
  {
   "cell_type": "markdown",
   "metadata": {},
   "source": [
    "**NOTE**: Use pandas' unique() function to identify the number of unique items, customers, and invoices - for example, by executing df[\"customer_id\"].nunique()."
   ]
  },
  {
   "cell_type": "markdown",
   "metadata": {},
   "source": [
    "Let's initialize an entity set with an arbitrary name, such as data:"
   ]
  },
  {
   "cell_type": "code",
   "execution_count": 32,
   "metadata": {},
   "outputs": [],
   "source": [
    "es = ft.EntitySet(id='data')"
   ]
  },
  {
   "cell_type": "markdown",
   "metadata": {},
   "source": [
    "Let's add a DataFrame to the entity set; we give the DataFrame a name (data). We need to add a unique identifier for each row, which we call rows, and since we do not have a unique row identifier in this dataset, we will create it as an additional column by setting make_index=True. Finally, we indicate that invoice_date is of the datetime type and customer_id should be handled as Categorical"
   ]
  },
  {
   "cell_type": "code",
   "execution_count": 33,
   "metadata": {},
   "outputs": [],
   "source": [
    "es = es.add_dataframe(\n",
    "    dataframe=df,\n",
    "    dataframe_name=\"data\",\n",
    "    index=\"rows\",\n",
    "    make_index=True,\n",
    "    time_index=\"invoice_date\",\n",
    "    logical_types={\"customer_id\": Categorical}\n",
    ")"
   ]
  },
  {
   "cell_type": "markdown",
   "metadata": {},
   "source": [
    "Next, we add the relationship between the original data DataFrame and invoices. To do this, we indicate the original or base DataFrame, which we called data in step 4, we give the new DataFrame a name, invoices, we add the unique identifier for invoices, and we add the column containing customer_id to this DataFrame"
   ]
  },
  {
   "cell_type": "code",
   "execution_count": 34,
   "metadata": {},
   "outputs": [
    {
     "data": {
      "text/plain": [
       "Entityset: data\n",
       "  DataFrames:\n",
       "    data [Rows: 741301, Columns: 8]\n",
       "    invoices [Rows: 40505, Columns: 3]\n",
       "  Relationships:\n",
       "    data.invoice -> invoices.invoice"
      ]
     },
     "execution_count": 34,
     "metadata": {},
     "output_type": "execute_result"
    }
   ],
   "source": [
    "es.normalize_dataframe(\n",
    "    base_dataframe_name=\"data\",\n",
    "    new_dataframe_name=\"invoices\",\n",
    "    index=\"invoice\",\n",
    "    copy_columns=[\"customer_id\"]\n",
    ")"
   ]
  },
  {
   "cell_type": "code",
   "execution_count": 35,
   "metadata": {},
   "outputs": [
    {
     "data": {
      "text/plain": [
       "Entityset: data\n",
       "  DataFrames:\n",
       "    data [Rows: 741301, Columns: 8]\n",
       "    invoices [Rows: 40505, Columns: 3]\n",
       "    customers [Rows: 5410, Columns: 2]\n",
       "  Relationships:\n",
       "    data.invoice -> invoices.invoice\n",
       "    invoices.customer_id -> customers.customer_id"
      ]
     },
     "execution_count": 35,
     "metadata": {},
     "output_type": "execute_result"
    }
   ],
   "source": [
    "es.normalize_dataframe(\n",
    "    base_dataframe_name=\"invoices\",  # note that we use the df from the previous cell\n",
    "    new_dataframe_name=\"customers\",  # the name of the new df\n",
    "    index=\"customer_id\",             # the column that indicates the relationship\n",
    ")"
   ]
  },
  {
   "cell_type": "markdown",
   "metadata": {},
   "source": [
    "We can add a third relationship between the original data and the products"
   ]
  },
  {
   "cell_type": "code",
   "execution_count": 36,
   "metadata": {},
   "outputs": [
    {
     "data": {
      "text/plain": [
       "Entityset: data\n",
       "  DataFrames:\n",
       "    data [Rows: 741301, Columns: 8]\n",
       "    invoices [Rows: 40505, Columns: 3]\n",
       "    customers [Rows: 5410, Columns: 2]\n",
       "    items [Rows: 4631, Columns: 2]\n",
       "  Relationships:\n",
       "    data.invoice -> invoices.invoice\n",
       "    invoices.customer_id -> customers.customer_id\n",
       "    data.stock_code -> items.stock_code"
      ]
     },
     "execution_count": 36,
     "metadata": {},
     "output_type": "execute_result"
    }
   ],
   "source": [
    "es.normalize_dataframe(\n",
    "    base_dataframe_name=\"data\",\n",
    "    new_dataframe_name=\"items\",\n",
    "    index=\"stock_code\"\n",
    ")"
   ]
  },
  {
   "cell_type": "code",
   "execution_count": 37,
   "metadata": {},
   "outputs": [
    {
     "data": {
      "text/html": [
       "<div>\n",
       "<style scoped>\n",
       "    .dataframe tbody tr th:only-of-type {\n",
       "        vertical-align: middle;\n",
       "    }\n",
       "\n",
       "    .dataframe tbody tr th {\n",
       "        vertical-align: top;\n",
       "    }\n",
       "\n",
       "    .dataframe thead th {\n",
       "        text-align: right;\n",
       "    }\n",
       "</style>\n",
       "<table border=\"1\" class=\"dataframe\">\n",
       "  <thead>\n",
       "    <tr style=\"text-align: right;\">\n",
       "      <th></th>\n",
       "      <th>invoice</th>\n",
       "      <th>customer_id</th>\n",
       "      <th>first_data_time</th>\n",
       "    </tr>\n",
       "  </thead>\n",
       "  <tbody>\n",
       "    <tr>\n",
       "      <th>489434</th>\n",
       "      <td>489434</td>\n",
       "      <td>13085.0</td>\n",
       "      <td>2009-12-01 07:45:00</td>\n",
       "    </tr>\n",
       "    <tr>\n",
       "      <th>489435</th>\n",
       "      <td>489435</td>\n",
       "      <td>13085.0</td>\n",
       "      <td>2009-12-01 07:46:00</td>\n",
       "    </tr>\n",
       "    <tr>\n",
       "      <th>489436</th>\n",
       "      <td>489436</td>\n",
       "      <td>13078.0</td>\n",
       "      <td>2009-12-01 09:06:00</td>\n",
       "    </tr>\n",
       "    <tr>\n",
       "      <th>489437</th>\n",
       "      <td>489437</td>\n",
       "      <td>15362.0</td>\n",
       "      <td>2009-12-01 09:08:00</td>\n",
       "    </tr>\n",
       "    <tr>\n",
       "      <th>489438</th>\n",
       "      <td>489438</td>\n",
       "      <td>18102.0</td>\n",
       "      <td>2009-12-01 09:24:00</td>\n",
       "    </tr>\n",
       "  </tbody>\n",
       "</table>\n",
       "</div>"
      ],
      "text/plain": [
       "       invoice customer_id     first_data_time\n",
       "489434  489434     13085.0 2009-12-01 07:45:00\n",
       "489435  489435     13085.0 2009-12-01 07:46:00\n",
       "489436  489436     13078.0 2009-12-01 09:06:00\n",
       "489437  489437     15362.0 2009-12-01 09:08:00\n",
       "489438  489438     18102.0 2009-12-01 09:24:00"
      ]
     },
     "execution_count": 37,
     "metadata": {},
     "output_type": "execute_result"
    }
   ],
   "source": [
    "es['invoices'].head()"
   ]
  },
  {
   "cell_type": "code",
   "execution_count": 38,
   "metadata": {},
   "outputs": [
    {
     "data": {
      "text/html": [
       "<div>\n",
       "<style scoped>\n",
       "    .dataframe tbody tr th:only-of-type {\n",
       "        vertical-align: middle;\n",
       "    }\n",
       "\n",
       "    .dataframe tbody tr th {\n",
       "        vertical-align: top;\n",
       "    }\n",
       "\n",
       "    .dataframe thead th {\n",
       "        text-align: right;\n",
       "    }\n",
       "</style>\n",
       "<table border=\"1\" class=\"dataframe\">\n",
       "  <thead>\n",
       "    <tr style=\"text-align: right;\">\n",
       "      <th></th>\n",
       "      <th>customer_id</th>\n",
       "      <th>first_invoices_time</th>\n",
       "    </tr>\n",
       "  </thead>\n",
       "  <tbody>\n",
       "    <tr>\n",
       "      <th>13085.0</th>\n",
       "      <td>13085.0</td>\n",
       "      <td>2009-12-01 07:45:00</td>\n",
       "    </tr>\n",
       "    <tr>\n",
       "      <th>13078.0</th>\n",
       "      <td>13078.0</td>\n",
       "      <td>2009-12-01 09:06:00</td>\n",
       "    </tr>\n",
       "    <tr>\n",
       "      <th>15362.0</th>\n",
       "      <td>15362.0</td>\n",
       "      <td>2009-12-01 09:08:00</td>\n",
       "    </tr>\n",
       "    <tr>\n",
       "      <th>18102.0</th>\n",
       "      <td>18102.0</td>\n",
       "      <td>2009-12-01 09:24:00</td>\n",
       "    </tr>\n",
       "    <tr>\n",
       "      <th>18087.0</th>\n",
       "      <td>18087.0</td>\n",
       "      <td>2009-12-01 09:43:00</td>\n",
       "    </tr>\n",
       "  </tbody>\n",
       "</table>\n",
       "</div>"
      ],
      "text/plain": [
       "        customer_id first_invoices_time\n",
       "13085.0     13085.0 2009-12-01 07:45:00\n",
       "13078.0     13078.0 2009-12-01 09:06:00\n",
       "15362.0     15362.0 2009-12-01 09:08:00\n",
       "18102.0     18102.0 2009-12-01 09:24:00\n",
       "18087.0     18087.0 2009-12-01 09:43:00"
      ]
     },
     "execution_count": 38,
     "metadata": {},
     "output_type": "execute_result"
    }
   ],
   "source": [
    "es[\"customers\"].head()"
   ]
  },
  {
   "cell_type": "markdown",
   "metadata": {},
   "source": [
    "We can see in the following output that featuretools automatically created a DataFrame containing the customer's unique identifier, followed by the date of the first invoice for this customer:"
   ]
  },
  {
   "cell_type": "code",
   "execution_count": 40,
   "metadata": {},
   "outputs": [
    {
     "data": {
      "image/svg+xml": [
       "<?xml version=\"1.0\" encoding=\"UTF-8\" standalone=\"no\"?>\n",
       "<!DOCTYPE svg PUBLIC \"-//W3C//DTD SVG 1.1//EN\"\n",
       " \"http://www.w3.org/Graphics/SVG/1.1/DTD/svg11.dtd\">\n",
       "<!-- Generated by graphviz version 12.2.0 (20241103.1931)\n",
       " -->\n",
       "<!-- Title: data Pages: 1 -->\n",
       "<svg width=\"495pt\" height=\"395pt\"\n",
       " viewBox=\"0.00 0.00 495.25 395.00\" xmlns=\"http://www.w3.org/2000/svg\" xmlns:xlink=\"http://www.w3.org/1999/xlink\">\n",
       "<g id=\"graph0\" class=\"graph\" transform=\"scale(1 1) rotate(0) translate(4 391)\">\n",
       "<title>data</title>\n",
       "<polygon fill=\"white\" stroke=\"none\" points=\"-4,4 -4,-391 491.25,-391 491.25,4 -4,4\"/>\n",
       "<!-- data -->\n",
       "<g id=\"node1\" class=\"node\">\n",
       "<title>data</title>\n",
       "<polygon fill=\"none\" stroke=\"black\" points=\"137.25,-222 137.25,-386.5 360.25,-386.5 360.25,-222 137.25,-222\"/>\n",
       "<text text-anchor=\"middle\" x=\"248.75\" y=\"-369.2\" font-family=\"Times,serif\" font-size=\"14.00\">data (741301 rows)</text>\n",
       "<polyline fill=\"none\" stroke=\"black\" points=\"137.25,-362 360.25,-362\"/>\n",
       "<text text-anchor=\"start\" x=\"145.25\" y=\"-344.7\" font-family=\"Times,serif\" font-size=\"14.00\">rows : Integer; index</text>\n",
       "<text text-anchor=\"start\" x=\"145.25\" y=\"-328.2\" font-family=\"Times,serif\" font-size=\"14.00\">customer_id : Categorical</text>\n",
       "<text text-anchor=\"start\" x=\"145.25\" y=\"-311.7\" font-family=\"Times,serif\" font-size=\"14.00\">invoice : Unknown; foreign_key</text>\n",
       "<text text-anchor=\"start\" x=\"145.25\" y=\"-295.2\" font-family=\"Times,serif\" font-size=\"14.00\">invoice_date : Datetime; time_index</text>\n",
       "<text text-anchor=\"start\" x=\"145.25\" y=\"-278.7\" font-family=\"Times,serif\" font-size=\"14.00\">stock_code : Categorical; foreign_key</text>\n",
       "<text text-anchor=\"start\" x=\"145.25\" y=\"-262.2\" font-family=\"Times,serif\" font-size=\"14.00\">description : Categorical</text>\n",
       "<text text-anchor=\"start\" x=\"145.25\" y=\"-245.7\" font-family=\"Times,serif\" font-size=\"14.00\">quantity : Integer</text>\n",
       "<text text-anchor=\"start\" x=\"145.25\" y=\"-229.2\" font-family=\"Times,serif\" font-size=\"14.00\">price : Double</text>\n",
       "</g>\n",
       "<!-- invoices -->\n",
       "<g id=\"node2\" class=\"node\">\n",
       "<title>invoices</title>\n",
       "<polygon fill=\"none\" stroke=\"black\" points=\"10.88,-103 10.88,-185 240.62,-185 240.62,-103 10.88,-103\"/>\n",
       "<text text-anchor=\"middle\" x=\"125.75\" y=\"-167.7\" font-family=\"Times,serif\" font-size=\"14.00\">invoices (40505 rows)</text>\n",
       "<polyline fill=\"none\" stroke=\"black\" points=\"10.88,-160.5 240.62,-160.5\"/>\n",
       "<text text-anchor=\"start\" x=\"18.88\" y=\"-143.2\" font-family=\"Times,serif\" font-size=\"14.00\">invoice : Unknown; index</text>\n",
       "<text text-anchor=\"start\" x=\"18.88\" y=\"-126.7\" font-family=\"Times,serif\" font-size=\"14.00\">customer_id : Categorical; foreign_key</text>\n",
       "<text text-anchor=\"start\" x=\"18.88\" y=\"-110.2\" font-family=\"Times,serif\" font-size=\"14.00\">first_data_time : Datetime; time_index</text>\n",
       "</g>\n",
       "<!-- data&#45;&gt;invoices -->\n",
       "<g id=\"edge1\" class=\"edge\">\n",
       "<title>data&#45;&gt;invoices</title>\n",
       "<path fill=\"none\" stroke=\"black\" d=\"M188.94,-221.78C188.94,-221.78 188.94,-196.62 188.94,-196.62\"/>\n",
       "<polygon fill=\"black\" stroke=\"black\" points=\"192.44,-196.62 188.94,-186.62 185.44,-196.62 192.44,-196.62\"/>\n",
       "<text text-anchor=\"middle\" x=\"169.06\" y=\"-195.9\" font-family=\"Times,serif\" font-size=\"14.00\">invoice</text>\n",
       "</g>\n",
       "<!-- items -->\n",
       "<g id=\"node4\" class=\"node\">\n",
       "<title>items</title>\n",
       "<polygon fill=\"none\" stroke=\"black\" points=\"258.25,-111.25 258.25,-176.75 487.25,-176.75 487.25,-111.25 258.25,-111.25\"/>\n",
       "<text text-anchor=\"middle\" x=\"372.75\" y=\"-159.45\" font-family=\"Times,serif\" font-size=\"14.00\">items (4631 rows)</text>\n",
       "<polyline fill=\"none\" stroke=\"black\" points=\"258.25,-152.25 487.25,-152.25\"/>\n",
       "<text text-anchor=\"start\" x=\"266.25\" y=\"-134.95\" font-family=\"Times,serif\" font-size=\"14.00\">stock_code : Categorical; index</text>\n",
       "<text text-anchor=\"start\" x=\"266.25\" y=\"-118.45\" font-family=\"Times,serif\" font-size=\"14.00\">first_data_time : Datetime; time_index</text>\n",
       "</g>\n",
       "<!-- data&#45;&gt;items -->\n",
       "<g id=\"edge3\" class=\"edge\">\n",
       "<title>data&#45;&gt;items</title>\n",
       "<path fill=\"none\" stroke=\"black\" d=\"M309.25,-221.78C309.25,-221.78 309.25,-188.72 309.25,-188.72\"/>\n",
       "<polygon fill=\"black\" stroke=\"black\" points=\"312.75,-188.72 309.25,-178.72 305.75,-188.72 312.75,-188.72\"/>\n",
       "<text text-anchor=\"middle\" x=\"278.88\" y=\"-208.45\" font-family=\"Times,serif\" font-size=\"14.00\">stock_code</text>\n",
       "</g>\n",
       "<!-- customers -->\n",
       "<g id=\"node3\" class=\"node\">\n",
       "<title>customers</title>\n",
       "<polygon fill=\"none\" stroke=\"black\" points=\"0,-0.5 0,-66 251.5,-66 251.5,-0.5 0,-0.5\"/>\n",
       "<text text-anchor=\"middle\" x=\"125.75\" y=\"-48.7\" font-family=\"Times,serif\" font-size=\"14.00\">customers (5410 rows)</text>\n",
       "<polyline fill=\"none\" stroke=\"black\" points=\"0,-41.5 251.5,-41.5\"/>\n",
       "<text text-anchor=\"start\" x=\"8\" y=\"-24.2\" font-family=\"Times,serif\" font-size=\"14.00\">customer_id : Categorical; index</text>\n",
       "<text text-anchor=\"start\" x=\"8\" y=\"-7.7\" font-family=\"Times,serif\" font-size=\"14.00\">first_invoices_time : Datetime; time_index</text>\n",
       "</g>\n",
       "<!-- invoices&#45;&gt;customers -->\n",
       "<g id=\"edge2\" class=\"edge\">\n",
       "<title>invoices&#45;&gt;customers</title>\n",
       "<path fill=\"none\" stroke=\"black\" d=\"M125.75,-102.76C125.75,-102.76 125.75,-77.74 125.75,-77.74\"/>\n",
       "<polygon fill=\"black\" stroke=\"black\" points=\"129.25,-77.74 125.75,-67.74 122.25,-77.74 129.25,-77.74\"/>\n",
       "<text text-anchor=\"middle\" x=\"92\" y=\"-76.95\" font-family=\"Times,serif\" font-size=\"14.00\">customer_id</text>\n",
       "</g>\n",
       "</g>\n",
       "</svg>\n"
      ],
      "text/plain": [
       "<graphviz.graphs.Digraph at 0x176104e80>"
      ]
     },
     "execution_count": 40,
     "metadata": {},
     "output_type": "execute_result"
    }
   ],
   "source": [
    "es.plot()"
   ]
  },
  {
   "cell_type": "markdown",
   "metadata": {},
   "source": [
    "Let's create features by aggregating the data at the customer level. To do this, we set up the deep feature synthesis (dfs) class from featuretools, indicating customers as the target DataFrame. When creating features, we want to ignore the two columns with unique identifiers:"
   ]
  },
  {
   "cell_type": "code",
   "execution_count": 44,
   "metadata": {},
   "outputs": [
    {
     "name": "stdout",
     "output_type": "stream",
     "text": [
      "114\n"
     ]
    },
    {
     "data": {
      "text/plain": [
       "[<Feature: MIN(data.price)>,\n",
       " <Feature: MIN(data.quantity)>,\n",
       " <Feature: MODE(data.description)>,\n",
       " <Feature: MODE(data.stock_code)>,\n",
       " <Feature: NUM_UNIQUE(data.description)>]"
      ]
     },
     "execution_count": 44,
     "metadata": {},
     "output_type": "execute_result"
    }
   ],
   "source": [
    "# Now we can start aggregating the data for each level.\n",
    "\n",
    "# Let's begin with customers\n",
    "\n",
    "feature_matrix, feature_defs = ft.dfs(\n",
    "    entityset=es,                        # the entity set\n",
    "    target_dataframe_name=\"customers\",   # the dataframe for wich to create the features\n",
    "    ignore_columns={                     # columns to ignore when creating features\n",
    "        \"invoices\":[\"invoice\"],\n",
    "        \"data\":[\"customer_id\"],\n",
    "    }\n",
    ")\n",
    "\n",
    "print(len(feature_defs))\n",
    "\n",
    "# display name of created features\n",
    "feature_defs[5:10]"
   ]
  },
  {
   "cell_type": "markdown",
   "metadata": {},
   "source": [
    "Lets display the first five rows of the DataFrame containing five of the created features:"
   ]
  },
  {
   "cell_type": "code",
   "execution_count": 49,
   "metadata": {},
   "outputs": [
    {
     "data": {
      "text/html": [
       "<div>\n",
       "<style scoped>\n",
       "    .dataframe tbody tr th:only-of-type {\n",
       "        vertical-align: middle;\n",
       "    }\n",
       "\n",
       "    .dataframe tbody tr th {\n",
       "        vertical-align: top;\n",
       "    }\n",
       "\n",
       "    .dataframe thead th {\n",
       "        text-align: right;\n",
       "    }\n",
       "</style>\n",
       "<table border=\"1\" class=\"dataframe\">\n",
       "  <thead>\n",
       "    <tr style=\"text-align: right;\">\n",
       "      <th></th>\n",
       "      <th>MIN(data.price)</th>\n",
       "      <th>MIN(data.quantity)</th>\n",
       "      <th>MODE(data.description)</th>\n",
       "      <th>MODE(data.stock_code)</th>\n",
       "      <th>NUM_UNIQUE(data.description)</th>\n",
       "    </tr>\n",
       "    <tr>\n",
       "      <th>customer_id</th>\n",
       "      <th></th>\n",
       "      <th></th>\n",
       "      <th></th>\n",
       "      <th></th>\n",
       "      <th></th>\n",
       "    </tr>\n",
       "  </thead>\n",
       "  <tbody>\n",
       "    <tr>\n",
       "      <th>13085.0</th>\n",
       "      <td>0.55</td>\n",
       "      <td>-48.0</td>\n",
       "      <td>RECORD FRAME 7\" SINGLE SIZE</td>\n",
       "      <td>22041</td>\n",
       "      <td>52</td>\n",
       "    </tr>\n",
       "    <tr>\n",
       "      <th>13078.0</th>\n",
       "      <td>0.19</td>\n",
       "      <td>-14.0</td>\n",
       "      <td>AREA PATROLLED METAL SIGN</td>\n",
       "      <td>82582</td>\n",
       "      <td>165</td>\n",
       "    </tr>\n",
       "    <tr>\n",
       "      <th>15362.0</th>\n",
       "      <td>0.21</td>\n",
       "      <td>1.0</td>\n",
       "      <td>BLUE PADDED SOFT MOBILE</td>\n",
       "      <td>20703</td>\n",
       "      <td>38</td>\n",
       "    </tr>\n",
       "    <tr>\n",
       "      <th>18102.0</th>\n",
       "      <td>0.27</td>\n",
       "      <td>-324.0</td>\n",
       "      <td>CREAM HEART CARD HOLDER</td>\n",
       "      <td>22189</td>\n",
       "      <td>415</td>\n",
       "    </tr>\n",
       "    <tr>\n",
       "      <th>18087.0</th>\n",
       "      <td>0.36</td>\n",
       "      <td>-96.0</td>\n",
       "      <td>WHITE HANGING HEART T-LIGHT HOLDER</td>\n",
       "      <td>85123A</td>\n",
       "      <td>48</td>\n",
       "    </tr>\n",
       "  </tbody>\n",
       "</table>\n",
       "</div>"
      ],
      "text/plain": [
       "             MIN(data.price)  ...  NUM_UNIQUE(data.description)\n",
       "customer_id                   ...                              \n",
       "13085.0                 0.55  ...                            52\n",
       "13078.0                 0.19  ...                           165\n",
       "15362.0                 0.21  ...                            38\n",
       "18102.0                 0.27  ...                           415\n",
       "18087.0                 0.36  ...                            48\n",
       "\n",
       "[5 rows x 5 columns]"
      ]
     },
     "execution_count": 49,
     "metadata": {},
     "output_type": "execute_result"
    }
   ],
   "source": [
    "feature_matrix[feature_matrix.columns[5:10]].head()"
   ]
  },
  {
   "cell_type": "markdown",
   "metadata": {},
   "source": [
    "Similarly, we can create features automatically by aggregating information at the invoice level:"
   ]
  },
  {
   "cell_type": "code",
   "execution_count": 50,
   "metadata": {},
   "outputs": [],
   "source": [
    "feature_matrix, feature_defs = ft.dfs(\n",
    "    entityset=es,\n",
    "    target_dataframe_name=\"invoices\",\n",
    "    ignore_columns={\"data\": [\"customer_id\"]},\n",
    "    max_depth=1,\n",
    ")"
   ]
  },
  {
   "cell_type": "code",
   "execution_count": 51,
   "metadata": {},
   "outputs": [
    {
     "data": {
      "text/plain": [
       "[<Feature: customer_id>,\n",
       " <Feature: COUNT(data)>,\n",
       " <Feature: MAX(data.price)>,\n",
       " <Feature: MAX(data.quantity)>,\n",
       " <Feature: MEAN(data.price)>,\n",
       " <Feature: MEAN(data.quantity)>,\n",
       " <Feature: MIN(data.price)>,\n",
       " <Feature: MIN(data.quantity)>,\n",
       " <Feature: MODE(data.description)>,\n",
       " <Feature: MODE(data.stock_code)>,\n",
       " <Feature: NUM_UNIQUE(data.description)>,\n",
       " <Feature: NUM_UNIQUE(data.stock_code)>,\n",
       " <Feature: SKEW(data.price)>,\n",
       " <Feature: SKEW(data.quantity)>,\n",
       " <Feature: STD(data.price)>,\n",
       " <Feature: STD(data.quantity)>,\n",
       " <Feature: SUM(data.price)>,\n",
       " <Feature: SUM(data.quantity)>,\n",
       " <Feature: DAY(first_data_time)>,\n",
       " <Feature: MONTH(first_data_time)>,\n",
       " <Feature: WEEKDAY(first_data_time)>,\n",
       " <Feature: YEAR(first_data_time)>]"
      ]
     },
     "execution_count": 51,
     "metadata": {},
     "output_type": "execute_result"
    }
   ],
   "source": [
    "feature_defs"
   ]
  },
  {
   "cell_type": "code",
   "execution_count": 52,
   "metadata": {},
   "outputs": [
    {
     "data": {
      "text/html": [
       "<div>\n",
       "<style scoped>\n",
       "    .dataframe tbody tr th:only-of-type {\n",
       "        vertical-align: middle;\n",
       "    }\n",
       "\n",
       "    .dataframe tbody tr th {\n",
       "        vertical-align: top;\n",
       "    }\n",
       "\n",
       "    .dataframe thead th {\n",
       "        text-align: right;\n",
       "    }\n",
       "</style>\n",
       "<table border=\"1\" class=\"dataframe\">\n",
       "  <thead>\n",
       "    <tr style=\"text-align: right;\">\n",
       "      <th></th>\n",
       "      <th>customer_id</th>\n",
       "      <th>COUNT(data)</th>\n",
       "      <th>MAX(data.price)</th>\n",
       "      <th>MAX(data.quantity)</th>\n",
       "      <th>MEAN(data.price)</th>\n",
       "      <th>MEAN(data.quantity)</th>\n",
       "      <th>MIN(data.price)</th>\n",
       "      <th>MIN(data.quantity)</th>\n",
       "      <th>MODE(data.description)</th>\n",
       "      <th>MODE(data.stock_code)</th>\n",
       "      <th>NUM_UNIQUE(data.description)</th>\n",
       "      <th>NUM_UNIQUE(data.stock_code)</th>\n",
       "      <th>SKEW(data.price)</th>\n",
       "      <th>SKEW(data.quantity)</th>\n",
       "      <th>STD(data.price)</th>\n",
       "      <th>STD(data.quantity)</th>\n",
       "      <th>SUM(data.price)</th>\n",
       "      <th>SUM(data.quantity)</th>\n",
       "      <th>DAY(first_data_time)</th>\n",
       "      <th>MONTH(first_data_time)</th>\n",
       "      <th>WEEKDAY(first_data_time)</th>\n",
       "      <th>YEAR(first_data_time)</th>\n",
       "    </tr>\n",
       "    <tr>\n",
       "      <th>invoice</th>\n",
       "      <th></th>\n",
       "      <th></th>\n",
       "      <th></th>\n",
       "      <th></th>\n",
       "      <th></th>\n",
       "      <th></th>\n",
       "      <th></th>\n",
       "      <th></th>\n",
       "      <th></th>\n",
       "      <th></th>\n",
       "      <th></th>\n",
       "      <th></th>\n",
       "      <th></th>\n",
       "      <th></th>\n",
       "      <th></th>\n",
       "      <th></th>\n",
       "      <th></th>\n",
       "      <th></th>\n",
       "      <th></th>\n",
       "      <th></th>\n",
       "      <th></th>\n",
       "      <th></th>\n",
       "    </tr>\n",
       "  </thead>\n",
       "  <tbody>\n",
       "    <tr>\n",
       "      <th>489434</th>\n",
       "      <td>13085.0</td>\n",
       "      <td>8</td>\n",
       "      <td>6.95</td>\n",
       "      <td>48.0</td>\n",
       "      <td>4.081250</td>\n",
       "      <td>20.750000</td>\n",
       "      <td>1.25</td>\n",
       "      <td>10.0</td>\n",
       "      <td>WHITE CHERRY LIGHTS</td>\n",
       "      <td>21232</td>\n",
       "      <td>8</td>\n",
       "      <td>8</td>\n",
       "      <td>0.005779</td>\n",
       "      <td>1.609110</td>\n",
       "      <td>2.721205</td>\n",
       "      <td>12.646287</td>\n",
       "      <td>32.65</td>\n",
       "      <td>166.0</td>\n",
       "      <td>1</td>\n",
       "      <td>12</td>\n",
       "      <td>1</td>\n",
       "      <td>2009</td>\n",
       "    </tr>\n",
       "    <tr>\n",
       "      <th>489435</th>\n",
       "      <td>13085.0</td>\n",
       "      <td>4</td>\n",
       "      <td>3.75</td>\n",
       "      <td>24.0</td>\n",
       "      <td>2.625000</td>\n",
       "      <td>15.000000</td>\n",
       "      <td>1.65</td>\n",
       "      <td>12.0</td>\n",
       "      <td>CAT BOWL</td>\n",
       "      <td>22195</td>\n",
       "      <td>4</td>\n",
       "      <td>4</td>\n",
       "      <td>0.516958</td>\n",
       "      <td>2.000000</td>\n",
       "      <td>0.861684</td>\n",
       "      <td>6.000000</td>\n",
       "      <td>10.50</td>\n",
       "      <td>60.0</td>\n",
       "      <td>1</td>\n",
       "      <td>12</td>\n",
       "      <td>1</td>\n",
       "      <td>2009</td>\n",
       "    </tr>\n",
       "    <tr>\n",
       "      <th>489436</th>\n",
       "      <td>13078.0</td>\n",
       "      <td>19</td>\n",
       "      <td>8.50</td>\n",
       "      <td>24.0</td>\n",
       "      <td>3.730526</td>\n",
       "      <td>10.157895</td>\n",
       "      <td>1.25</td>\n",
       "      <td>2.0</td>\n",
       "      <td>PEACE WOODEN BLOCK LETTERS</td>\n",
       "      <td>21181</td>\n",
       "      <td>19</td>\n",
       "      <td>19</td>\n",
       "      <td>0.585934</td>\n",
       "      <td>0.484434</td>\n",
       "      <td>2.215269</td>\n",
       "      <td>5.899747</td>\n",
       "      <td>70.88</td>\n",
       "      <td>193.0</td>\n",
       "      <td>1</td>\n",
       "      <td>12</td>\n",
       "      <td>1</td>\n",
       "      <td>2009</td>\n",
       "    </tr>\n",
       "    <tr>\n",
       "      <th>489437</th>\n",
       "      <td>15362.0</td>\n",
       "      <td>23</td>\n",
       "      <td>9.95</td>\n",
       "      <td>12.0</td>\n",
       "      <td>3.628261</td>\n",
       "      <td>6.304348</td>\n",
       "      <td>0.65</td>\n",
       "      <td>1.0</td>\n",
       "      <td>BLUE PADDED SOFT MOBILE</td>\n",
       "      <td>10002</td>\n",
       "      <td>23</td>\n",
       "      <td>23</td>\n",
       "      <td>0.891079</td>\n",
       "      <td>0.465628</td>\n",
       "      <td>2.697424</td>\n",
       "      <td>4.149861</td>\n",
       "      <td>83.45</td>\n",
       "      <td>145.0</td>\n",
       "      <td>1</td>\n",
       "      <td>12</td>\n",
       "      <td>1</td>\n",
       "      <td>2009</td>\n",
       "    </tr>\n",
       "    <tr>\n",
       "      <th>489438</th>\n",
       "      <td>18102.0</td>\n",
       "      <td>17</td>\n",
       "      <td>6.40</td>\n",
       "      <td>60.0</td>\n",
       "      <td>2.591176</td>\n",
       "      <td>48.588235</td>\n",
       "      <td>0.98</td>\n",
       "      <td>28.0</td>\n",
       "      <td>CARROT CHARLIE+LOLA COASTER SET</td>\n",
       "      <td>20711</td>\n",
       "      <td>17</td>\n",
       "      <td>17</td>\n",
       "      <td>1.912915</td>\n",
       "      <td>-0.645841</td>\n",
       "      <td>1.540588</td>\n",
       "      <td>14.013649</td>\n",
       "      <td>44.05</td>\n",
       "      <td>826.0</td>\n",
       "      <td>1</td>\n",
       "      <td>12</td>\n",
       "      <td>1</td>\n",
       "      <td>2009</td>\n",
       "    </tr>\n",
       "  </tbody>\n",
       "</table>\n",
       "</div>"
      ],
      "text/plain": [
       "        customer_id  COUNT(data)  ...  WEEKDAY(first_data_time)  YEAR(first_data_time)\n",
       "invoice                           ...                                                 \n",
       "489434      13085.0            8  ...                         1                   2009\n",
       "489435      13085.0            4  ...                         1                   2009\n",
       "489436      13078.0           19  ...                         1                   2009\n",
       "489437      15362.0           23  ...                         1                   2009\n",
       "489438      18102.0           17  ...                         1                   2009\n",
       "\n",
       "[5 rows x 22 columns]"
      ]
     },
     "execution_count": 52,
     "metadata": {},
     "output_type": "execute_result"
    }
   ],
   "source": [
    "feature_matrix.head()"
   ]
  },
  {
   "cell_type": "markdown",
   "metadata": {},
   "source": [
    "### Extracting features from date and time"
   ]
  },
  {
   "cell_type": "code",
   "execution_count": 69,
   "metadata": {},
   "outputs": [],
   "source": [
    "import pandas as pd\n",
    "import featuretools as ft\n",
    "from featuretools.primitives import (\n",
    "    IsFederalHoliday, DistanceToHoliday\n",
    ")\n",
    "from woodwork.logical_types import Categorical, NaturalLanguage"
   ]
  },
  {
   "cell_type": "code",
   "execution_count": 70,
   "metadata": {},
   "outputs": [
    {
     "data": {
      "text/html": [
       "<div>\n",
       "<style scoped>\n",
       "    .dataframe tbody tr th:only-of-type {\n",
       "        vertical-align: middle;\n",
       "    }\n",
       "\n",
       "    .dataframe tbody tr th {\n",
       "        vertical-align: top;\n",
       "    }\n",
       "\n",
       "    .dataframe thead th {\n",
       "        text-align: right;\n",
       "    }\n",
       "</style>\n",
       "<table border=\"1\" class=\"dataframe\">\n",
       "  <thead>\n",
       "    <tr style=\"text-align: right;\">\n",
       "      <th></th>\n",
       "      <th>customer_id</th>\n",
       "      <th>invoice</th>\n",
       "      <th>invoice_date</th>\n",
       "      <th>stock_code</th>\n",
       "      <th>description</th>\n",
       "      <th>quantity</th>\n",
       "      <th>price</th>\n",
       "    </tr>\n",
       "  </thead>\n",
       "  <tbody>\n",
       "    <tr>\n",
       "      <th>0</th>\n",
       "      <td>13085.0</td>\n",
       "      <td>489434</td>\n",
       "      <td>2009-12-01 07:45:00</td>\n",
       "      <td>85048</td>\n",
       "      <td>15CM CHRISTMAS GLASS BALL 20 LIGHTS</td>\n",
       "      <td>12</td>\n",
       "      <td>6.95</td>\n",
       "    </tr>\n",
       "    <tr>\n",
       "      <th>1</th>\n",
       "      <td>13085.0</td>\n",
       "      <td>489434</td>\n",
       "      <td>2009-12-01 07:45:00</td>\n",
       "      <td>79323P</td>\n",
       "      <td>PINK CHERRY LIGHTS</td>\n",
       "      <td>12</td>\n",
       "      <td>6.75</td>\n",
       "    </tr>\n",
       "    <tr>\n",
       "      <th>2</th>\n",
       "      <td>13085.0</td>\n",
       "      <td>489434</td>\n",
       "      <td>2009-12-01 07:45:00</td>\n",
       "      <td>79323W</td>\n",
       "      <td>WHITE CHERRY LIGHTS</td>\n",
       "      <td>12</td>\n",
       "      <td>6.75</td>\n",
       "    </tr>\n",
       "    <tr>\n",
       "      <th>3</th>\n",
       "      <td>13085.0</td>\n",
       "      <td>489434</td>\n",
       "      <td>2009-12-01 07:45:00</td>\n",
       "      <td>22041</td>\n",
       "      <td>RECORD FRAME 7\" SINGLE SIZE</td>\n",
       "      <td>48</td>\n",
       "      <td>2.10</td>\n",
       "    </tr>\n",
       "    <tr>\n",
       "      <th>4</th>\n",
       "      <td>13085.0</td>\n",
       "      <td>489434</td>\n",
       "      <td>2009-12-01 07:45:00</td>\n",
       "      <td>21232</td>\n",
       "      <td>STRAWBERRY CERAMIC TRINKET BOX</td>\n",
       "      <td>24</td>\n",
       "      <td>1.25</td>\n",
       "    </tr>\n",
       "  </tbody>\n",
       "</table>\n",
       "</div>"
      ],
      "text/plain": [
       "   customer_id invoice  ... quantity price\n",
       "0      13085.0  489434  ...       12  6.95\n",
       "1      13085.0  489434  ...       12  6.75\n",
       "2      13085.0  489434  ...       12  6.75\n",
       "3      13085.0  489434  ...       48  2.10\n",
       "4      13085.0  489434  ...       24  1.25\n",
       "\n",
       "[5 rows x 7 columns]"
      ]
     },
     "execution_count": 70,
     "metadata": {},
     "output_type": "execute_result"
    }
   ],
   "source": [
    "df = pd.read_csv('../source/ch09-featuretools/retail.csv', parse_dates=['invoice_date'])\n",
    "\n",
    "df.head()"
   ]
  },
  {
   "cell_type": "code",
   "execution_count": 71,
   "metadata": {},
   "outputs": [],
   "source": [
    "es = ft.EntitySet(id=\"data\")"
   ]
  },
  {
   "cell_type": "code",
   "execution_count": 72,
   "metadata": {},
   "outputs": [],
   "source": [
    "es = es.add_dataframe(\n",
    "    dataframe=df,\n",
    "    dataframe_name=\"data\",\n",
    "    index=\"rows\",\n",
    "    make_index=True,\n",
    "    time_index=\"invoice_date\",\n",
    "    logical_types={\"customer_id\": Categorical}\n",
    ")"
   ]
  },
  {
   "cell_type": "code",
   "execution_count": 73,
   "metadata": {},
   "outputs": [
    {
     "data": {
      "text/plain": [
       "Entityset: data\n",
       "  DataFrames:\n",
       "    data [Rows: 741301, Columns: 8]\n",
       "    invoices [Rows: 40505, Columns: 3]\n",
       "  Relationships:\n",
       "    data.invoice -> invoices.invoice"
      ]
     },
     "execution_count": 73,
     "metadata": {},
     "output_type": "execute_result"
    }
   ],
   "source": [
    "es.normalize_dataframe(\n",
    "    base_dataframe_name=\"data\",\n",
    "    new_dataframe_name=\"invoices\",\n",
    "    index=\"invoice\",\n",
    "    copy_columns=[\"customer_id\"]\n",
    ")"
   ]
  },
  {
   "cell_type": "code",
   "execution_count": 74,
   "metadata": {},
   "outputs": [],
   "source": [
    "is_bank_hol = IsFederalHoliday(country=\"AO\")"
   ]
  },
  {
   "cell_type": "markdown",
   "metadata": {},
   "source": [
    "Let's check out which bank holidays are included in this primitive"
   ]
  },
  {
   "cell_type": "code",
   "execution_count": 75,
   "metadata": {},
   "outputs": [
    {
     "data": {
      "text/plain": [
       "['Day off for Africa Day',\n",
       " 'Carnival Day',\n",
       " \"Day off for National Heroes' Day\",\n",
       " 'Southern Africa Liberation Day',\n",
       " 'Martyrs of Colonial Repression Day',\n",
       " 'Peace and National Reconciliation Day',\n",
       " 'Day off for Christmas and Family Day',\n",
       " 'Independence Day',\n",
       " 'Day off for National Independence Day',\n",
       " \"Day off for Carnival Day; International Women's Day\",\n",
       " \"Day off for All Souls' Day\",\n",
       " 'Day off for Southern Africa Liberation Day',\n",
       " 'Day off for Southern Africa Liberation Day; Good Friday',\n",
       " 'Family Day',\n",
       " \"National Heroes' Day\",\n",
       " 'Date of Founding of MPLA - Labor Party',\n",
       " 'Day off for Peace and National Reconciliation Day',\n",
       " 'Christmas and Family Day',\n",
       " 'Liberation Movement Day',\n",
       " 'Day off for Carnival Day',\n",
       " \"Day off for International Children's Day\",\n",
       " \"All Souls' Day\",\n",
       " \"Day off for International Women's Day\",\n",
       " \"Day off for International Worker's Day\",\n",
       " 'National Independence Day',\n",
       " 'General Election Day',\n",
       " 'Day off for Liberation Movement Day',\n",
       " \"International Children's Day\",\n",
       " 'Good Friday; Southern Africa Liberation Day',\n",
       " 'Christmas Day',\n",
       " \"International Worker's Day\",\n",
       " \"Carnival Day; International Women's Day\",\n",
       " \"Day off for New Year's Day\",\n",
       " 'Day off for Christmas Day',\n",
       " \"New Year's Day\",\n",
       " 'Good Friday',\n",
       " 'Africa Day',\n",
       " \"International Women's Day\",\n",
       " 'Good Friday; Peace and National Reconciliation Day',\n",
       " 'Day off for Martyrs of Colonial Repression Day']"
      ]
     },
     "execution_count": 75,
     "metadata": {},
     "output_type": "execute_result"
    }
   ],
   "source": [
    "hols = is_bank_hol.holidayUtil.federal_holidays.values()\n",
    "available_hols = list(set(hols))\n",
    "available_hols"
   ]
  },
  {
   "cell_type": "code",
   "execution_count": 76,
   "metadata": {},
   "outputs": [],
   "source": [
    "good_friday = DistanceToHoliday(holiday='Good Friday', country='AO')\n"
   ]
  },
  {
   "cell_type": "markdown",
   "metadata": {},
   "source": [
    "Now, let's make a list containing strings that identify common features that we can get from datetime and include the primitives from steps 6 and 8:"
   ]
  },
  {
   "cell_type": "code",
   "execution_count": 77,
   "metadata": {},
   "outputs": [],
   "source": [
    "date_primitives = [\n",
    "    \"day\",\"year\",\"month\",\"weekday\",\n",
    "    \"days_in_month\",\"part_of_day\",\n",
    "    \"hour\",\"minute\",\n",
    "    is_bank_hol,\n",
    "    good_friday\n",
    "]"
   ]
  },
  {
   "cell_type": "markdown",
   "metadata": {},
   "source": [
    "Let's now create date and time features from step 9 based on the invoice_date date variable:"
   ]
  },
  {
   "cell_type": "code",
   "execution_count": 78,
   "metadata": {},
   "outputs": [],
   "source": [
    "feature_matrix, feature_defs = ft.dfs(\n",
    "    entityset=es,\n",
    "    target_dataframe_name=\"invoices\",\n",
    "    agg_primitives=[],\n",
    "    trans_primitives=date_primitives\n",
    ")"
   ]
  },
  {
   "cell_type": "code",
   "execution_count": 79,
   "metadata": {},
   "outputs": [
    {
     "data": {
      "text/plain": [
       "[<Feature: customer_id>,\n",
       " <Feature: DAY(first_data_time)>,\n",
       " <Feature: DAYS_IN_MONTH(first_data_time)>,\n",
       " <Feature: DISTANCE_TO_HOLIDAY(first_data_time, holiday=Good Friday, country=AO)>,\n",
       " <Feature: HOUR(first_data_time)>,\n",
       " <Feature: IS_FEDERAL_HOLIDAY(first_data_time, country=AO)>,\n",
       " <Feature: MINUTE(first_data_time)>,\n",
       " <Feature: MONTH(first_data_time)>,\n",
       " <Feature: PART_OF_DAY(first_data_time)>,\n",
       " <Feature: WEEKDAY(first_data_time)>,\n",
       " <Feature: YEAR(first_data_time)>]"
      ]
     },
     "execution_count": 79,
     "metadata": {},
     "output_type": "execute_result"
    }
   ],
   "source": [
    "feature_defs"
   ]
  },
  {
   "cell_type": "markdown",
   "metadata": {},
   "source": [
    "Let's display the resulting DataFrame containing three of the new features"
   ]
  },
  {
   "cell_type": "code",
   "execution_count": 80,
   "metadata": {},
   "outputs": [
    {
     "data": {
      "text/html": [
       "<div>\n",
       "<style scoped>\n",
       "    .dataframe tbody tr th:only-of-type {\n",
       "        vertical-align: middle;\n",
       "    }\n",
       "\n",
       "    .dataframe tbody tr th {\n",
       "        vertical-align: top;\n",
       "    }\n",
       "\n",
       "    .dataframe thead th {\n",
       "        text-align: right;\n",
       "    }\n",
       "</style>\n",
       "<table border=\"1\" class=\"dataframe\">\n",
       "  <thead>\n",
       "    <tr style=\"text-align: right;\">\n",
       "      <th></th>\n",
       "      <th>DISTANCE_TO_HOLIDAY(first_data_time, holiday=Good Friday, country=AO)</th>\n",
       "      <th>HOUR(first_data_time)</th>\n",
       "      <th>IS_FEDERAL_HOLIDAY(first_data_time, country=AO)</th>\n",
       "    </tr>\n",
       "    <tr>\n",
       "      <th>invoice</th>\n",
       "      <th></th>\n",
       "      <th></th>\n",
       "      <th></th>\n",
       "    </tr>\n",
       "  </thead>\n",
       "  <tbody>\n",
       "    <tr>\n",
       "      <th>489434</th>\n",
       "      <td>122.0</td>\n",
       "      <td>7</td>\n",
       "      <td>False</td>\n",
       "    </tr>\n",
       "    <tr>\n",
       "      <th>489435</th>\n",
       "      <td>122.0</td>\n",
       "      <td>7</td>\n",
       "      <td>False</td>\n",
       "    </tr>\n",
       "    <tr>\n",
       "      <th>489436</th>\n",
       "      <td>122.0</td>\n",
       "      <td>9</td>\n",
       "      <td>False</td>\n",
       "    </tr>\n",
       "    <tr>\n",
       "      <th>489437</th>\n",
       "      <td>122.0</td>\n",
       "      <td>9</td>\n",
       "      <td>False</td>\n",
       "    </tr>\n",
       "    <tr>\n",
       "      <th>489438</th>\n",
       "      <td>122.0</td>\n",
       "      <td>9</td>\n",
       "      <td>False</td>\n",
       "    </tr>\n",
       "  </tbody>\n",
       "</table>\n",
       "</div>"
      ],
      "text/plain": [
       "         DISTANCE_TO_HOLIDAY(first_data_time, holiday=Good Friday, country=AO)  ... IS_FEDERAL_HOLIDAY(first_data_time, country=AO)\n",
       "invoice                                                                         ...                                                \n",
       "489434                                               122.0                      ...                                           False\n",
       "489435                                               122.0                      ...                                           False\n",
       "489436                                               122.0                      ...                                           False\n",
       "489437                                               122.0                      ...                                           False\n",
       "489438                                               122.0                      ...                                           False\n",
       "\n",
       "[5 rows x 3 columns]"
      ]
     },
     "execution_count": 80,
     "metadata": {},
     "output_type": "execute_result"
    }
   ],
   "source": [
    "columns = [\n",
    "    \"DISTANCE_TO_HOLIDAY(first_data_time, holiday=Good Friday, country=AO)\",\n",
    "    \"HOUR(first_data_time)\",\n",
    "    \"IS_FEDERAL_HOLIDAY(first_data_time, country=AO)\"\n",
    "]\n",
    "\n",
    "feature_matrix[columns].head()"
   ]
  },
  {
   "cell_type": "markdown",
   "metadata": {},
   "source": [
    "### Extracting features from text"
   ]
  },
  {
   "cell_type": "code",
   "execution_count": 81,
   "metadata": {},
   "outputs": [],
   "source": [
    "es = ft.EntitySet(id=\"data\")"
   ]
  },
  {
   "cell_type": "code",
   "execution_count": 92,
   "metadata": {},
   "outputs": [],
   "source": [
    "es = es.add_dataframe(\n",
    "    dataframe=df,              # the dataframe with the data\n",
    "    dataframe_name=\"data\",     # unique name to associate with this dataframe\n",
    "    index=\"rows\",              # column name to index the items\n",
    "    make_index=True,           # if true, create a new column with unique values\n",
    "    time_index=\"invoice_date\", # column containing time data\n",
    "    logical_types={\n",
    "        \"customer_id\": Categorical, # the id is numerical, but should be handled as categorical\n",
    "        \"invoice\": Categorical,\n",
    "        \"description\": NaturalLanguage, # we need to set this variable as text for ft to work\n",
    "    },\n",
    ")"
   ]
  },
  {
   "cell_type": "code",
   "execution_count": 93,
   "metadata": {},
   "outputs": [
    {
     "data": {
      "text/plain": [
       "Entityset: data\n",
       "  DataFrames:\n",
       "    data [Rows: 741301, Columns: 8]\n",
       "    invoices [Rows: 40505, Columns: 3]\n",
       "  Relationships:\n",
       "    data.invoice -> invoices.invoice"
      ]
     },
     "execution_count": 93,
     "metadata": {},
     "output_type": "execute_result"
    }
   ],
   "source": [
    "# Create a new dataframe with invoices\n",
    "# indicating its relationship to the main data\n",
    "\n",
    "es.normalize_dataframe(\n",
    "    base_dataframe_name=\"data\",     # Datarame name from which to split.\n",
    "    new_dataframe_name=\"invoices\",  # Name of the new dataframe.\n",
    "    index=\"invoice\",                # relationship will be created across this column.\n",
    "    copy_columns=[\"customer_id\"],   # columns to remove from base_dataframe and move to new dataframe.\n",
    ")"
   ]
  },
  {
   "cell_type": "code",
   "execution_count": 94,
   "metadata": {},
   "outputs": [],
   "source": [
    "text_primitives = [\n",
    "    \"num_words\",\n",
    "    \"num_characters\",\n",
    "    \"MeanCharactersPerWord\",\n",
    "    \"PunctuationCount\"\n",
    "]"
   ]
  },
  {
   "cell_type": "markdown",
   "metadata": {},
   "source": [
    "Let's now extract the text features from the description variable"
   ]
  },
  {
   "cell_type": "code",
   "execution_count": 95,
   "metadata": {},
   "outputs": [
    {
     "data": {
      "text/plain": [
       "[<Feature: customer_id>,\n",
       " <Feature: stock_code>,\n",
       " <Feature: description>,\n",
       " <Feature: quantity>,\n",
       " <Feature: price>]"
      ]
     },
     "execution_count": 95,
     "metadata": {},
     "output_type": "execute_result"
    }
   ],
   "source": [
    "feature_matrix, feature_defs = ft.dfs(\n",
    "    entityset=es,                       # the entity set\n",
    "    target_dataframe_name=\"data\",       # the dataframe for wich to create the feature\n",
    "    agg_primitives=[],                  # we need an empty list to avoid returning the defo parameters\n",
    "    trans_primitives=text_primitives,   # the date features to extract\n",
    "    ignore_dataframes=[\"invoices\"],\n",
    ")\n",
    "\n",
    "# display name of created features\n",
    "feature_defs"
   ]
  }
 ],
 "metadata": {
  "kernelspec": {
   "display_name": "base",
   "language": "python",
   "name": "python3"
  },
  "language_info": {
   "codemirror_mode": {
    "name": "ipython",
    "version": 3
   },
   "file_extension": ".py",
   "mimetype": "text/x-python",
   "name": "python",
   "nbconvert_exporter": "python",
   "pygments_lexer": "ipython3",
   "version": "3.10.9"
  }
 },
 "nbformat": 4,
 "nbformat_minor": 2
}
